{
 "cells": [
  {
   "cell_type": "code",
   "execution_count": null,
   "id": "bf086665-014b-48b9-97bb-91bf2c82e7c0",
   "metadata": {
    "tags": []
   },
   "outputs": [],
   "source": []
  },
  {
   "cell_type": "code",
   "execution_count": 34,
   "id": "3d67e75e-5000-4eb8-9d68-1cf596daf71e",
   "metadata": {
    "tags": []
   },
   "outputs": [],
   "source": [
    "# load necessary libraries. install what you don't have\n",
    "import numpy as np\n",
    "import pandas as pd\n",
    "import requests\n",
    "import requests\n",
    "import urllib\n",
    "import os\n",
    "import pprint\n",
    "import json\n",
    "import matplotlib.pyplot as plt\n",
    "import seaborn as sns\n",
    "import nltk \n",
    "import sklearn \n",
    "from sklearn.metrics import mean_squared_error, r2_score\n",
    "from sklearn.model_selection import train_test_split, cross_val_score\n",
    "from sklearn.ensemble import RandomForestRegressor\n",
    "from sklearn import linear_model\n"
   ]
  },
  {
   "cell_type": "code",
   "execution_count": 17,
   "id": "4f82b5aa-8339-495f-bfc4-529419b5c10d",
   "metadata": {
    "tags": []
   },
   "outputs": [
    {
     "data": {
      "text/plain": [
       "{'rating': 5.0,\n",
       " 'title': 'Must watch!',\n",
       " 'text': 'I love this series!',\n",
       " 'parent_asin': 'B00PSLQYWE'}"
      ]
     },
     "execution_count": 17,
     "metadata": {},
     "output_type": "execute_result"
    }
   ],
   "source": [
    "# upload data files\n",
    "\n",
    "# upload metadata\n",
    "file_meta = \"movies_metadata_reduced.jsonl\"\n",
    "meta_list = [json.loads(line) for line in open(file_meta, 'r')]\n",
    "\n",
    "#upload reviews data\n",
    "file_rev = \"movies_reviews_reduced.jsonl\"\n",
    "rev_list = [json.loads(line) for line in open(file_rev, 'r')]\n",
    "rev_list[0]\n",
    "\n"
   ]
  },
  {
   "cell_type": "code",
   "execution_count": 18,
   "id": "86dcad86-cc30-46fd-bce7-f92463e7e44d",
   "metadata": {
    "tags": []
   },
   "outputs": [
    {
     "data": {
      "text/html": [
       "<div>\n",
       "<style scoped>\n",
       "    .dataframe tbody tr th:only-of-type {\n",
       "        vertical-align: middle;\n",
       "    }\n",
       "\n",
       "    .dataframe tbody tr th {\n",
       "        vertical-align: top;\n",
       "    }\n",
       "\n",
       "    .dataframe thead th {\n",
       "        text-align: right;\n",
       "    }\n",
       "</style>\n",
       "<table border=\"1\" class=\"dataframe\">\n",
       "  <thead>\n",
       "    <tr style=\"text-align: right;\">\n",
       "      <th></th>\n",
       "      <th>rating</th>\n",
       "      <th>title</th>\n",
       "      <th>text</th>\n",
       "      <th>parent_asin</th>\n",
       "    </tr>\n",
       "  </thead>\n",
       "  <tbody>\n",
       "    <tr>\n",
       "      <th>0</th>\n",
       "      <td>5.0</td>\n",
       "      <td>Must watch!</td>\n",
       "      <td>I love this series!</td>\n",
       "      <td>B00PSLQYWE</td>\n",
       "    </tr>\n",
       "    <tr>\n",
       "      <th>1</th>\n",
       "      <td>5.0</td>\n",
       "      <td>number 2 in the series and its a good one - lo...</td>\n",
       "      <td>number 2 in the series and its a good one - lo...</td>\n",
       "      <td>B003PIUC02</td>\n",
       "    </tr>\n",
       "    <tr>\n",
       "      <th>2</th>\n",
       "      <td>5.0</td>\n",
       "      <td>Great price for blue ray</td>\n",
       "      <td>Gift for son.  Great price for blue ray.</td>\n",
       "      <td>B004R6JG7G</td>\n",
       "    </tr>\n",
       "    <tr>\n",
       "      <th>3</th>\n",
       "      <td>5.0</td>\n",
       "      <td>Miracle on 34th Street</td>\n",
       "      <td>I purchased this as a gift, along with some ot...</td>\n",
       "      <td>B075498GH2</td>\n",
       "    </tr>\n",
       "    <tr>\n",
       "      <th>4</th>\n",
       "      <td>5.0</td>\n",
       "      <td>Twilight Saga</td>\n",
       "      <td>I have always liked vampire movies, &amp; Twilight...</td>\n",
       "      <td>B01JTQ3LFG</td>\n",
       "    </tr>\n",
       "    <tr>\n",
       "      <th>5</th>\n",
       "      <td>5.0</td>\n",
       "      <td>Five Stars</td>\n",
       "      <td>Excelent.</td>\n",
       "      <td>B00RL9WRAE</td>\n",
       "    </tr>\n",
       "    <tr>\n",
       "      <th>6</th>\n",
       "      <td>5.0</td>\n",
       "      <td>Five Stars</td>\n",
       "      <td>great comedy..I love these shows and the quali...</td>\n",
       "      <td>B00EC828DI</td>\n",
       "    </tr>\n",
       "    <tr>\n",
       "      <th>7</th>\n",
       "      <td>4.0</td>\n",
       "      <td>Believe in yourself, not your appearance</td>\n",
       "      <td>Penelope is a modern-day fairytale involving a...</td>\n",
       "      <td>B0011N1WE8</td>\n",
       "    </tr>\n",
       "    <tr>\n",
       "      <th>8</th>\n",
       "      <td>4.0</td>\n",
       "      <td>Fans of Ghost and Mrs. Muir and Somewhere in T...</td>\n",
       "      <td>Jennifer Jones ([[ASIN:B00008LDO7 The Song of ...</td>\n",
       "      <td>B0002KPHYC</td>\n",
       "    </tr>\n",
       "    <tr>\n",
       "      <th>9</th>\n",
       "      <td>5.0</td>\n",
       "      <td>Great Memories</td>\n",
       "      <td>Was  just as \"she\" remembered it. Great Gift, ...</td>\n",
       "      <td>B002C6A6FY</td>\n",
       "    </tr>\n",
       "  </tbody>\n",
       "</table>\n",
       "</div>"
      ],
      "text/plain": [
       "   rating                                              title  \\\n",
       "0     5.0                                        Must watch!   \n",
       "1     5.0  number 2 in the series and its a good one - lo...   \n",
       "2     5.0                           Great price for blue ray   \n",
       "3     5.0                             Miracle on 34th Street   \n",
       "4     5.0                                      Twilight Saga   \n",
       "5     5.0                                         Five Stars   \n",
       "6     5.0                                         Five Stars   \n",
       "7     4.0           Believe in yourself, not your appearance   \n",
       "8     4.0  Fans of Ghost and Mrs. Muir and Somewhere in T...   \n",
       "9     5.0                                     Great Memories   \n",
       "\n",
       "                                                text parent_asin  \n",
       "0                                I love this series!  B00PSLQYWE  \n",
       "1  number 2 in the series and its a good one - lo...  B003PIUC02  \n",
       "2           Gift for son.  Great price for blue ray.  B004R6JG7G  \n",
       "3  I purchased this as a gift, along with some ot...  B075498GH2  \n",
       "4  I have always liked vampire movies, & Twilight...  B01JTQ3LFG  \n",
       "5                                          Excelent.  B00RL9WRAE  \n",
       "6  great comedy..I love these shows and the quali...  B00EC828DI  \n",
       "7  Penelope is a modern-day fairytale involving a...  B0011N1WE8  \n",
       "8  Jennifer Jones ([[ASIN:B00008LDO7 The Song of ...  B0002KPHYC  \n",
       "9  Was  just as \"she\" remembered it. Great Gift, ...  B002C6A6FY  "
      ]
     },
     "execution_count": 18,
     "metadata": {},
     "output_type": "execute_result"
    }
   ],
   "source": [
    "# make a data frame for the reviews \n",
    "rev_df = pd.DataFrame(rev_list) \n",
    "rev_df.head(10)\n"
   ]
  },
  {
   "cell_type": "code",
   "execution_count": 19,
   "id": "dabade3d-9e3b-4ad3-a9f9-f070403159c3",
   "metadata": {
    "tags": []
   },
   "outputs": [
    {
     "name": "stdout",
     "output_type": "stream",
     "text": [
      "main_category       351\n",
      "title              3145\n",
      "subtitle           7368\n",
      "average_rating        3\n",
      "rating_number         3\n",
      "features           3145\n",
      "description        3145\n",
      "price              4860\n",
      "images                0\n",
      "videos                0\n",
      "store              3550\n",
      "categories         3145\n",
      "details               0\n",
      "parent_asin           0\n",
      "bought_together    7477\n",
      "author             7475\n",
      "dtype: int64\n"
     ]
    },
    {
     "data": {
      "text/html": [
       "<div>\n",
       "<style scoped>\n",
       "    .dataframe tbody tr th:only-of-type {\n",
       "        vertical-align: middle;\n",
       "    }\n",
       "\n",
       "    .dataframe tbody tr th {\n",
       "        vertical-align: top;\n",
       "    }\n",
       "\n",
       "    .dataframe thead th {\n",
       "        text-align: right;\n",
       "    }\n",
       "</style>\n",
       "<table border=\"1\" class=\"dataframe\">\n",
       "  <thead>\n",
       "    <tr style=\"text-align: right;\">\n",
       "      <th></th>\n",
       "      <th>main_category</th>\n",
       "      <th>average_rating</th>\n",
       "      <th>rating_number</th>\n",
       "      <th>details</th>\n",
       "      <th>parent_asin</th>\n",
       "    </tr>\n",
       "  </thead>\n",
       "  <tbody>\n",
       "    <tr>\n",
       "      <th>0</th>\n",
       "      <td>Prime Video</td>\n",
       "      <td>3.4</td>\n",
       "      <td>29.0</td>\n",
       "      <td>{'Audio languages': ['English'], 'Subtitles': ...</td>\n",
       "      <td>B0728FHHYC</td>\n",
       "    </tr>\n",
       "    <tr>\n",
       "      <th>1</th>\n",
       "      <td>Movies &amp; TV</td>\n",
       "      <td>3.4</td>\n",
       "      <td>36.0</td>\n",
       "      <td>{'Format': 'Multiple Formats, AC-3, Blu-ray, C...</td>\n",
       "      <td>B001LM64H4</td>\n",
       "    </tr>\n",
       "    <tr>\n",
       "      <th>2</th>\n",
       "      <td>Prime Video</td>\n",
       "      <td>3.1</td>\n",
       "      <td>8.0</td>\n",
       "      <td>{'Audio languages': ['English'], 'Subtitles': ...</td>\n",
       "      <td>B00O8NP6XQ</td>\n",
       "    </tr>\n",
       "    <tr>\n",
       "      <th>3</th>\n",
       "      <td>Movies &amp; TV</td>\n",
       "      <td>4.2</td>\n",
       "      <td>15.0</td>\n",
       "      <td>{'Genre': 'Military &amp; War', 'Format': 'Multipl...</td>\n",
       "      <td>B00JAD6DBI</td>\n",
       "    </tr>\n",
       "    <tr>\n",
       "      <th>4</th>\n",
       "      <td>Movies &amp; TV</td>\n",
       "      <td>3.3</td>\n",
       "      <td>139.0</td>\n",
       "      <td>{'Genre': 'Comedy', 'Format': 'PAL', 'Runtime'...</td>\n",
       "      <td>B07FFG3K2G</td>\n",
       "    </tr>\n",
       "  </tbody>\n",
       "</table>\n",
       "</div>"
      ],
      "text/plain": [
       "  main_category  average_rating  rating_number  \\\n",
       "0   Prime Video             3.4           29.0   \n",
       "1   Movies & TV             3.4           36.0   \n",
       "2   Prime Video             3.1            8.0   \n",
       "3   Movies & TV             4.2           15.0   \n",
       "4   Movies & TV             3.3          139.0   \n",
       "\n",
       "                                             details parent_asin  \n",
       "0  {'Audio languages': ['English'], 'Subtitles': ...  B0728FHHYC  \n",
       "1  {'Format': 'Multiple Formats, AC-3, Blu-ray, C...  B001LM64H4  \n",
       "2  {'Audio languages': ['English'], 'Subtitles': ...  B00O8NP6XQ  \n",
       "3  {'Genre': 'Military & War', 'Format': 'Multipl...  B00JAD6DBI  \n",
       "4  {'Genre': 'Comedy', 'Format': 'PAL', 'Runtime'...  B07FFG3K2G  "
      ]
     },
     "execution_count": 19,
     "metadata": {},
     "output_type": "execute_result"
    }
   ],
   "source": [
    "# make a data frame for the metadata, dropping unnecessary columns\n",
    "# list the na values in each  column\n",
    "meta_df = pd.DataFrame(meta_list)\n",
    "print(meta_df.isna().sum())\n",
    "# remove columns that are irrelevant or have over 3000 mising values\n",
    "meta_df = pd.DataFrame(meta_list).drop(columns=['images', 'videos','subtitle','description', 'price', 'bought_together', 'title', 'categories','author', 'store', 'features'])\n",
    "# show final metadata dataframe\n",
    "meta_df.head()"
   ]
  },
  {
   "cell_type": "code",
   "execution_count": 23,
   "id": "188b8020-1fa9-4b0c-a795-a7f9764c9a5f",
   "metadata": {
    "tags": []
   },
   "outputs": [
    {
     "data": {
      "text/html": [
       "<div>\n",
       "<style scoped>\n",
       "    .dataframe tbody tr th:only-of-type {\n",
       "        vertical-align: middle;\n",
       "    }\n",
       "\n",
       "    .dataframe tbody tr th {\n",
       "        vertical-align: top;\n",
       "    }\n",
       "\n",
       "    .dataframe thead th {\n",
       "        text-align: right;\n",
       "    }\n",
       "</style>\n",
       "<table border=\"1\" class=\"dataframe\">\n",
       "  <thead>\n",
       "    <tr style=\"text-align: right;\">\n",
       "      <th></th>\n",
       "      <th>rating</th>\n",
       "      <th>title</th>\n",
       "      <th>text</th>\n",
       "      <th>parent_asin</th>\n",
       "      <th>main_category</th>\n",
       "      <th>average_rating</th>\n",
       "      <th>rating_number</th>\n",
       "      <th>details</th>\n",
       "    </tr>\n",
       "  </thead>\n",
       "  <tbody>\n",
       "    <tr>\n",
       "      <th>0</th>\n",
       "      <td>3.0</td>\n",
       "      <td>Predictable but with promise</td>\n",
       "      <td>It had a pacing problem. It was slow in parts ...</td>\n",
       "      <td>B0728FHHYC</td>\n",
       "      <td>Prime Video</td>\n",
       "      <td>3.4</td>\n",
       "      <td>29.0</td>\n",
       "      <td>{'Audio languages': ['English'], 'Subtitles': ...</td>\n",
       "    </tr>\n",
       "    <tr>\n",
       "      <th>1</th>\n",
       "      <td>1.0</td>\n",
       "      <td>Bali: Very Disappointing</td>\n",
       "      <td>I have bought ALL the blu ray disks in this Ea...</td>\n",
       "      <td>B001LM64H4</td>\n",
       "      <td>Movies &amp; TV</td>\n",
       "      <td>3.4</td>\n",
       "      <td>36.0</td>\n",
       "      <td>{'Format': 'Multiple Formats, AC-3, Blu-ray, C...</td>\n",
       "    </tr>\n",
       "    <tr>\n",
       "      <th>2</th>\n",
       "      <td>1.0</td>\n",
       "      <td>Boring</td>\n",
       "      <td>I have been to Bali and I loved it. This video...</td>\n",
       "      <td>B001LM64H4</td>\n",
       "      <td>Movies &amp; TV</td>\n",
       "      <td>3.4</td>\n",
       "      <td>36.0</td>\n",
       "      <td>{'Format': 'Multiple Formats, AC-3, Blu-ray, C...</td>\n",
       "    </tr>\n",
       "    <tr>\n",
       "      <th>3</th>\n",
       "      <td>3.0</td>\n",
       "      <td>Beautiful but disappointing</td>\n",
       "      <td>Having spent close to three weeks in Bali in 2...</td>\n",
       "      <td>B001LM64H4</td>\n",
       "      <td>Movies &amp; TV</td>\n",
       "      <td>3.4</td>\n",
       "      <td>36.0</td>\n",
       "      <td>{'Format': 'Multiple Formats, AC-3, Blu-ray, C...</td>\n",
       "    </tr>\n",
       "    <tr>\n",
       "      <th>4</th>\n",
       "      <td>3.0</td>\n",
       "      <td>Beautiful footage but lousy music</td>\n",
       "      <td>I love the Earthscapes series and the beauty o...</td>\n",
       "      <td>B001LM64H4</td>\n",
       "      <td>Movies &amp; TV</td>\n",
       "      <td>3.4</td>\n",
       "      <td>36.0</td>\n",
       "      <td>{'Format': 'Multiple Formats, AC-3, Blu-ray, C...</td>\n",
       "    </tr>\n",
       "  </tbody>\n",
       "</table>\n",
       "</div>"
      ],
      "text/plain": [
       "   rating                              title  \\\n",
       "0     3.0       Predictable but with promise   \n",
       "1     1.0           Bali: Very Disappointing   \n",
       "2     1.0                             Boring   \n",
       "3     3.0        Beautiful but disappointing   \n",
       "4     3.0  Beautiful footage but lousy music   \n",
       "\n",
       "                                                text parent_asin  \\\n",
       "0  It had a pacing problem. It was slow in parts ...  B0728FHHYC   \n",
       "1  I have bought ALL the blu ray disks in this Ea...  B001LM64H4   \n",
       "2  I have been to Bali and I loved it. This video...  B001LM64H4   \n",
       "3  Having spent close to three weeks in Bali in 2...  B001LM64H4   \n",
       "4  I love the Earthscapes series and the beauty o...  B001LM64H4   \n",
       "\n",
       "  main_category  average_rating  rating_number  \\\n",
       "0   Prime Video             3.4           29.0   \n",
       "1   Movies & TV             3.4           36.0   \n",
       "2   Movies & TV             3.4           36.0   \n",
       "3   Movies & TV             3.4           36.0   \n",
       "4   Movies & TV             3.4           36.0   \n",
       "\n",
       "                                             details  \n",
       "0  {'Audio languages': ['English'], 'Subtitles': ...  \n",
       "1  {'Format': 'Multiple Formats, AC-3, Blu-ray, C...  \n",
       "2  {'Format': 'Multiple Formats, AC-3, Blu-ray, C...  \n",
       "3  {'Format': 'Multiple Formats, AC-3, Blu-ray, C...  \n",
       "4  {'Format': 'Multiple Formats, AC-3, Blu-ray, C...  "
      ]
     },
     "execution_count": 23,
     "metadata": {},
     "output_type": "execute_result"
    }
   ],
   "source": [
    "# merge metadata with review data\n",
    "df_merged = rev_df.merge(meta_df, on='parent_asin', how='right')\n",
    "df_merged.head(5)"
   ]
  },
  {
   "cell_type": "code",
   "execution_count": 12,
   "id": "7d082155-a148-4541-89b5-22e50563f0cd",
   "metadata": {
    "tags": []
   },
   "outputs": [
    {
     "data": {
      "image/png": "[encoded data removed]",
      "text/plain": [
       "<Figure size 800x500 with 2 Axes>"
      ]
     },
     "metadata": {},
     "output_type": "display_data"
    }
   ],
   "source": [
    "# find a correlation between the quantitative variables in the merged dataset\n",
    "corr_df = df_merged.select_dtypes(include=['float64'])\n",
    "correlation_matrix = corr_df.corr()\n",
    "\n",
    "# plot a correlation matrix for average rating, rating, and amount of ratiangs per movie\n",
    "plt.figure(figsize=(8, 5))\n",
    "sns.heatmap(correlation_matrix, annot=True, cmap='coolwarm')\n",
    "plt.title('Correlation Between rating, average rating, rating number')\n",
    "plt.show()\n",
    "\n",
    "#main conclusion is that the metadata might not actually do much to stregthen the model. "
   ]
  },
  {
   "cell_type": "code",
   "execution_count": 26,
   "id": "6c4c0299-2941-4fba-b215-4c9771af92fa",
   "metadata": {
    "tags": []
   },
   "outputs": [
    {
     "data": {
      "image/png": "[encoded data removed]",
      "text/plain": [
       "<Figure size 640x480 with 1 Axes>"
      ]
     },
     "metadata": {},
     "output_type": "display_data"
    }
   ],
   "source": [
    "# observe overall difference in user ratings and the average rating for a given movie\n",
    "\n",
    "# postive diff = user is lower than average, negative diff = user is higher than average \n",
    "\n",
    "#created \"rating_diff\" to observe movie average rating - user rating points\n",
    "df_merged['rating_diff'] = df_merged['average_rating'] - df_merged['rating']\n",
    "# plot histogram of frequency distribution of how user ratings differ from the average\n",
    "ax = df_merged[\"rating_diff\"].plot.hist(orientation=\"vertical\", cumulative=True)\n",
    "# observe that users tend to rate a movie as lower than the average. \n"
   ]
  },
  {
   "cell_type": "code",
   "execution_count": 27,
   "id": "32c9075e-3582-4d73-8106-e7e77762361b",
   "metadata": {
    "tags": []
   },
   "outputs": [
    {
     "name": "stderr",
     "output_type": "stream",
     "text": [
      "[nltk_data] Downloading package vader_lexicon to\n",
      "[nltk_data]     /home/cnd3ru/nltk_data...\n",
      "[nltk_data]   Package vader_lexicon is already up-to-date!\n"
     ]
    }
   ],
   "source": [
    "from nltk.sentiment import SentimentIntensityAnalyzer\n",
    "#load the nltk sentiment score analyzer. \n",
    "# make sure you receive \"Package vader_lexicon is already up-to-date! message\n",
    "nltk.download('vader_lexicon')\n",
    "sia = SentimentIntensityAnalyzer()"
   ]
  },
  {
   "cell_type": "code",
   "execution_count": 28,
   "id": "0d19d0a0",
   "metadata": {
    "tags": []
   },
   "outputs": [],
   "source": [
    "# create function to produce the sentiment scores per each review in the review dataframe\n",
    "def get_sentiment_scores(df):\n",
    "    # Create an empty list to store sentiment scores\n",
    "    sentiment_scores = []\n",
    "\n",
    "    # Iterate over each review text\n",
    "    for review in df[\"text\"]:\n",
    "        sentiment = sia.polarity_scores(str(review))  # Convert to string & analyze\n",
    "        sentiment_scores.append(sentiment[\"compound\"])  # Extract compound score\n",
    "\n",
    "    # Add sentiment score column\n",
    "    df[\"sentiment_score\"] = sentiment_scores\n",
    "\n",
    "    return df  \n"
   ]
  },
  {
   "cell_type": "code",
   "execution_count": 29,
   "id": "870c80e0",
   "metadata": {
    "tags": []
   },
   "outputs": [
    {
     "data": {
      "text/html": [
       "<div>\n",
       "<style scoped>\n",
       "    .dataframe tbody tr th:only-of-type {\n",
       "        vertical-align: middle;\n",
       "    }\n",
       "\n",
       "    .dataframe tbody tr th {\n",
       "        vertical-align: top;\n",
       "    }\n",
       "\n",
       "    .dataframe thead th {\n",
       "        text-align: right;\n",
       "    }\n",
       "</style>\n",
       "<table border=\"1\" class=\"dataframe\">\n",
       "  <thead>\n",
       "    <tr style=\"text-align: right;\">\n",
       "      <th></th>\n",
       "      <th>rating</th>\n",
       "      <th>title</th>\n",
       "      <th>text</th>\n",
       "      <th>parent_asin</th>\n",
       "      <th>sentiment_score</th>\n",
       "    </tr>\n",
       "  </thead>\n",
       "  <tbody>\n",
       "    <tr>\n",
       "      <th>0</th>\n",
       "      <td>5.0</td>\n",
       "      <td>Must watch!</td>\n",
       "      <td>I love this series!</td>\n",
       "      <td>B00PSLQYWE</td>\n",
       "      <td>0.6696</td>\n",
       "    </tr>\n",
       "    <tr>\n",
       "      <th>1</th>\n",
       "      <td>5.0</td>\n",
       "      <td>number 2 in the series and its a good one - lo...</td>\n",
       "      <td>number 2 in the series and its a good one - lo...</td>\n",
       "      <td>B003PIUC02</td>\n",
       "      <td>0.8748</td>\n",
       "    </tr>\n",
       "    <tr>\n",
       "      <th>2</th>\n",
       "      <td>5.0</td>\n",
       "      <td>Great price for blue ray</td>\n",
       "      <td>Gift for son.  Great price for blue ray.</td>\n",
       "      <td>B004R6JG7G</td>\n",
       "      <td>0.7906</td>\n",
       "    </tr>\n",
       "    <tr>\n",
       "      <th>3</th>\n",
       "      <td>5.0</td>\n",
       "      <td>Miracle on 34th Street</td>\n",
       "      <td>I purchased this as a gift, along with some ot...</td>\n",
       "      <td>B075498GH2</td>\n",
       "      <td>0.9825</td>\n",
       "    </tr>\n",
       "    <tr>\n",
       "      <th>4</th>\n",
       "      <td>5.0</td>\n",
       "      <td>Twilight Saga</td>\n",
       "      <td>I have always liked vampire movies, &amp; Twilight...</td>\n",
       "      <td>B01JTQ3LFG</td>\n",
       "      <td>0.6908</td>\n",
       "    </tr>\n",
       "    <tr>\n",
       "      <th>5</th>\n",
       "      <td>5.0</td>\n",
       "      <td>Five Stars</td>\n",
       "      <td>Excelent.</td>\n",
       "      <td>B00RL9WRAE</td>\n",
       "      <td>0.0000</td>\n",
       "    </tr>\n",
       "    <tr>\n",
       "      <th>6</th>\n",
       "      <td>5.0</td>\n",
       "      <td>Five Stars</td>\n",
       "      <td>great comedy..I love these shows and the quali...</td>\n",
       "      <td>B00EC828DI</td>\n",
       "      <td>0.8519</td>\n",
       "    </tr>\n",
       "    <tr>\n",
       "      <th>7</th>\n",
       "      <td>4.0</td>\n",
       "      <td>Believe in yourself, not your appearance</td>\n",
       "      <td>Penelope is a modern-day fairytale involving a...</td>\n",
       "      <td>B0011N1WE8</td>\n",
       "      <td>0.4122</td>\n",
       "    </tr>\n",
       "    <tr>\n",
       "      <th>8</th>\n",
       "      <td>4.0</td>\n",
       "      <td>Fans of Ghost and Mrs. Muir and Somewhere in T...</td>\n",
       "      <td>Jennifer Jones ([[ASIN:B00008LDO7 The Song of ...</td>\n",
       "      <td>B0002KPHYC</td>\n",
       "      <td>0.9955</td>\n",
       "    </tr>\n",
       "    <tr>\n",
       "      <th>9</th>\n",
       "      <td>5.0</td>\n",
       "      <td>Great Memories</td>\n",
       "      <td>Was  just as \"she\" remembered it. Great Gift, ...</td>\n",
       "      <td>B002C6A6FY</td>\n",
       "      <td>0.8720</td>\n",
       "    </tr>\n",
       "  </tbody>\n",
       "</table>\n",
       "</div>"
      ],
      "text/plain": [
       "   rating                                              title  \\\n",
       "0     5.0                                        Must watch!   \n",
       "1     5.0  number 2 in the series and its a good one - lo...   \n",
       "2     5.0                           Great price for blue ray   \n",
       "3     5.0                             Miracle on 34th Street   \n",
       "4     5.0                                      Twilight Saga   \n",
       "5     5.0                                         Five Stars   \n",
       "6     5.0                                         Five Stars   \n",
       "7     4.0           Believe in yourself, not your appearance   \n",
       "8     4.0  Fans of Ghost and Mrs. Muir and Somewhere in T...   \n",
       "9     5.0                                     Great Memories   \n",
       "\n",
       "                                                text parent_asin  \\\n",
       "0                                I love this series!  B00PSLQYWE   \n",
       "1  number 2 in the series and its a good one - lo...  B003PIUC02   \n",
       "2           Gift for son.  Great price for blue ray.  B004R6JG7G   \n",
       "3  I purchased this as a gift, along with some ot...  B075498GH2   \n",
       "4  I have always liked vampire movies, & Twilight...  B01JTQ3LFG   \n",
       "5                                          Excelent.  B00RL9WRAE   \n",
       "6  great comedy..I love these shows and the quali...  B00EC828DI   \n",
       "7  Penelope is a modern-day fairytale involving a...  B0011N1WE8   \n",
       "8  Jennifer Jones ([[ASIN:B00008LDO7 The Song of ...  B0002KPHYC   \n",
       "9  Was  just as \"she\" remembered it. Great Gift, ...  B002C6A6FY   \n",
       "\n",
       "   sentiment_score  \n",
       "0           0.6696  \n",
       "1           0.8748  \n",
       "2           0.7906  \n",
       "3           0.9825  \n",
       "4           0.6908  \n",
       "5           0.0000  \n",
       "6           0.8519  \n",
       "7           0.4122  \n",
       "8           0.9955  \n",
       "9           0.8720  "
      ]
     },
     "execution_count": 29,
     "metadata": {},
     "output_type": "execute_result"
    }
   ],
   "source": [
    "# produce the sentiment scores for each review, this may take about a minute\n",
    "# not using the merged data since EDA showed the metadata didn't seem to have factors that would strengthen the model\n",
    "rev_df_s = get_sentiment_scores(rev_df)\n",
    "rev_df_s.head(10)"
   ]
  },
  {
   "cell_type": "code",
   "execution_count": 39,
   "id": "8b9afa5a-5d23-49ba-a7b0-5d969113d2e7",
   "metadata": {
    "tags": []
   },
   "outputs": [],
   "source": [
    "#transform rating and sentiment score columns to an array\n",
    "y = rev_df_s['rating'].to_numpy()\n",
    "x = rev_df_s['sentiment_score'].to_numpy()\n"
   ]
  },
  {
   "cell_type": "code",
   "execution_count": 40,
   "id": "be08777f",
   "metadata": {
    "tags": []
   },
   "outputs": [
    {
     "data": {
      "image/png": "[encoded data removed]",
      "text/plain": [
       "<Figure size 640x480 with 1 Axes>"
      ]
     },
     "metadata": {},
     "output_type": "display_data"
    }
   ],
   "source": [
    "\n",
    "# predict the sentiment score with regression model\n",
    "from sklearn import linear_model\n",
    "from sklearn.model_selection import cross_val_score\n",
    "\n",
    "# function to produce the linear regression coefficients\n",
    "def estimate_coef(x, y):\n",
    "  # number of observations/points\n",
    "  n = np.size(x)\n",
    "\n",
    "  # mean of x and y vector\n",
    "  m_x = np.mean(x)\n",
    "  m_y = np.mean(y)\n",
    "\n",
    "  # calculating cross-deviation and deviation about x\n",
    "  SS_xy = np.sum(y*x) - n*m_y*m_x\n",
    "  SS_xx = np.sum(x*x) - n*m_x*m_x\n",
    "\n",
    "  # calculating regression coefficients\n",
    "  b_1 = SS_xy / SS_xx\n",
    "  b_0 = m_y - b_1*m_x\n",
    "\n",
    "  return (b_0, b_1)\n",
    "\n",
    "# function to plot the regression line\n",
    "\n",
    "def plot_regression_line(x, y, b):\n",
    "  # plotting the actual points as scatter plot\n",
    "  #plt.scatter(x, y, color = \"m\",\n",
    "       # marker = \"o\", s = 30)\n",
    "\n",
    "  # predicted response vector\n",
    "  y_pred = b[0] + b[1]*x\n",
    "\n",
    "  # plotting the regression line\n",
    "  plt.plot(x, y_pred, color = \"g\")\n",
    "\n",
    "  # putting labels\n",
    "  plt.xlabel('Sentiment Score')\n",
    "  plt.ylabel('Movie Rating')\n",
    "\n",
    "b_array = []\n",
    "\n",
    "b_array = estimate_coef(x, y)\n",
    "\n",
    "#plot the regression line based on the linear reg coefficients for the ratings vs sentiment score model\n",
    "\n",
    "plot_regression_line(x, y, b_array)\n"
   ]
  },
  {
   "cell_type": "code",
   "execution_count": 52,
   "id": "c0c1622c-330d-49e7-8ca5-3fda9dca35e2",
   "metadata": {
    "tags": []
   },
   "outputs": [
    {
     "name": "stdout",
     "output_type": "stream",
     "text": [
      "[1.15213354 1.15426228 1.18062682 1.20500851 1.34291891]\n",
      "Average of mean square error scores:  1.2069900114701146\n",
      "[0.2107454  0.20328359 0.2193865  0.2240915  0.25207721]\n",
      "Average of r squared scores:  0.22191684006042217\n"
     ]
    }
   ],
   "source": [
    "# identify the linear model to test\n",
    "model = linear_model.LinearRegression()\n",
    "\n",
    "# test the model using cross-validation scoring for regression. \n",
    "# commented below are the guide for the parameters\n",
    "# model = linear regression\n",
    "# x = sentiment score\n",
    "# y = ratings\n",
    "# scoring = the way we evaluate success of the predictive model, neg mean square error\n",
    "# cv = \"subsets\" to test the data. \n",
    "mse_scores = cross_val_score(model, x.reshape(-1, 1), y.reshape(-1, 1), scoring='neg_mean_squared_error', cv=5)\n",
    "#take the negative of the output to get the actual root mean square error values\n",
    "cv_mse = -mse_scores\n",
    "mean_cv_mse = np.mean(cv_mse)\n",
    "# Print the list of tested mean square error values, and the average mse\n",
    "print(cv_mse)\n",
    "print(\"Average of mean square error scores: \", mean_cv_mse)\n",
    "# Print the list of tested r squared values, and the average r squared\n",
    "r_square_scores = cross_val_score(model, x.reshape(-1, 1), y.reshape(-1, 1), cv=5)\n",
    "print(r_square_scores)\n",
    "print(\"Average of r squared scores: \",np.mean(r_square_scores))\n",
    "\n",
    "\n"
   ]
  },
  {
   "cell_type": "code",
   "execution_count": 53,
   "id": "92224266-8080-4915-bdea-12de89a7ce4f",
   "metadata": {
    "tags": []
   },
   "outputs": [
    {
     "data": {
      "image/png": "[encoded data removed]",
      "text/plain": [
       "<Figure size 640x480 with 1 Axes>"
      ]
     },
     "metadata": {},
     "output_type": "display_data"
    }
   ],
   "source": [
    "# Plot the distribution \n",
    "y_pred = b_array[0] + b_array[1] * x\n",
    "\n",
    "# Define the bins for ratings 1-5\n",
    "bins = np.arange(1, 7) - 0.5  # This creates bins for 1, 2, 3, 4, 5\n",
    "\n",
    "# Plotting Actual and Predicted Ratings\n",
    "plt.hist(y, bins=bins, alpha=0.5, label='Actual Ratings', color='green', edgecolor='black')\n",
    "plt.hist(y_pred, bins=bins, alpha=0.5, label='Predicted Ratings', color='blue', edgecolor='black')\n",
    "\n",
    "# Set labels, title, and grid\n",
    "plt.xlabel('Rating')\n",
    "plt.ylabel('Frequency')\n",
    "plt.title('Distribution of Actual vs. Predicted Ratings')\n",
    "\n",
    "# Set the x-ticks to 1, 2, 3, 4, 5, so the x-axis shows only these integer values\n",
    "plt.xticks([1, 2, 3, 4, 5])\n",
    "\n",
    "# Add a legend and grid\n",
    "plt.legend(loc='upper left')\n",
    "plt.grid(True)\n",
    "\n",
    "# Show the plot\n",
    "plt.show()\n"
   ]
  },
  {
   "cell_type": "code",
   "execution_count": 55,
   "id": "7be5d1e9-d95e-45e3-9804-164673a01a9e",
   "metadata": {
    "tags": []
   },
   "outputs": [],
   "source": [
    "\n",
    "\n",
    "# Calculate predictions using the regression line coefficients\n",
    "y_pred_lr = b_array[0] + b_array[1] * x\n",
    "\n",
    "# Calculate residuals (actual - predicted)\n",
    "residuals = y - y_pred_lr\n",
    "\n",
    "# Create a box plot of the residuals\n",
    "#bar graph of the linear reg residuals here\n"
   ]
  },
  {
   "cell_type": "code",
   "execution_count": 56,
   "id": "07271961-d471-4bfe-8f77-a9fc78d7d154",
   "metadata": {
    "tags": []
   },
   "outputs": [
    {
     "name": "stdout",
     "output_type": "stream",
     "text": [
      "Accuracy of the Linear Regression model: 42.60%\n"
     ]
    }
   ],
   "source": [
    "# 1. Make predictions using the fitted linear regression model\n",
    "\n",
    "# 2. Round the predictions to the nearest integer (since ratings are discrete)\n",
    "y_pred_lr_rounded = np.round(y_pred_lr).astype(int)\n",
    "\n",
    "# 3. Calculate the accuracy by comparing the rounded predictions to the actual ratings\n",
    "accuracy_lr = np.mean(y_pred_lr_rounded == y) * 100  # Multiply by 100 to get percentage\n",
    "\n",
    "print(f\"Accuracy of the Linear Regression model: {accuracy_lr:.2f}%\")\n"
   ]
  },
  {
   "cell_type": "code",
   "execution_count": 49,
   "id": "6e5dc845",
   "metadata": {
    "tags": []
   },
   "outputs": [
    {
     "name": "stderr",
     "output_type": "stream",
     "text": [
      "/apps/software/standard/core/jupyterlab/3.6.3-py3.11/lib/python3.11/site-packages/sklearn/base.py:1151: DataConversionWarning: A column-vector y was passed when a 1d array was expected. Please change the shape of y to (n_samples,), for example using ravel().\n",
      "  return fit_method(estimator, *args, **kwargs)\n",
      "/apps/software/standard/core/jupyterlab/3.6.3-py3.11/lib/python3.11/site-packages/sklearn/base.py:1151: DataConversionWarning: A column-vector y was passed when a 1d array was expected. Please change the shape of y to (n_samples,), for example using ravel().\n",
      "  return fit_method(estimator, *args, **kwargs)\n",
      "/apps/software/standard/core/jupyterlab/3.6.3-py3.11/lib/python3.11/site-packages/sklearn/base.py:1151: DataConversionWarning: A column-vector y was passed when a 1d array was expected. Please change the shape of y to (n_samples,), for example using ravel().\n",
      "  return fit_method(estimator, *args, **kwargs)\n",
      "/apps/software/standard/core/jupyterlab/3.6.3-py3.11/lib/python3.11/site-packages/sklearn/base.py:1151: DataConversionWarning: A column-vector y was passed when a 1d array was expected. Please change the shape of y to (n_samples,), for example using ravel().\n",
      "  return fit_method(estimator, *args, **kwargs)\n",
      "/apps/software/standard/core/jupyterlab/3.6.3-py3.11/lib/python3.11/site-packages/sklearn/base.py:1151: DataConversionWarning: A column-vector y was passed when a 1d array was expected. Please change the shape of y to (n_samples,), for example using ravel().\n",
      "  return fit_method(estimator, *args, **kwargs)\n"
     ]
    },
    {
     "name": "stdout",
     "output_type": "stream",
     "text": [
      "Cross-Validated Mean Squared Error: 1.2122\n",
      "Final Test Mean Squared Error: 1.1945\n",
      "Final Test R-squared Score: 0.2240\n"
     ]
    },
    {
     "data": {
      "image/png": "[encoded data removed]",
      "text/plain": [
       "<Figure size 640x480 with 1 Axes>"
      ]
     },
     "metadata": {},
     "output_type": "display_data"
    }
   ],
   "source": [
    "# Replicating the methodology above but this time with a randomforest regression model instead of linear regression\n",
    "# This will run, but it make take a few minutes!\n",
    "\n",
    "# Initialize the new model\n",
    "rf_model = RandomForestRegressor(n_estimators=100, random_state=6)\n",
    "\n",
    "# 1. Perform Cross-Validation on random forest model\n",
    "cv_scores = cross_val_score(rf_model, x.reshape(-1, 1), y.reshape(-1, 1), scoring='neg_mean_squared_error', cv=5)\n",
    "cv_mse = -cv_scores  # Convert to positive MSE\n",
    "mean_cv_mse = np.mean(cv_mse)\n",
    "\n",
    "print(f\"Cross-Validated Mean Squared Error: {mean_cv_mse:.4f}\")\n",
    "\n",
    "# 2. Fit new model and test MSE and r2 of the fitted model that uses the split test vs. train data as opposed to the cross_val score (cross_val_score is likely more reliable but this also provides an additional metric)\n",
    "# Split data into training and testing sets\n",
    "X_train, X_test, y_train, y_test = train_test_split(x.reshape(-1, 1), y, test_size=0.2, random_state=42)\n",
    "\n",
    "rf_model.fit(X_train, y_train)\n",
    "y_pred_rf = rf_model.predict(X_test)\n",
    "\n",
    "mse = mean_squared_error(y_test, y_pred_rf)\n",
    "r2 = r2_score(y_test, y_pred_rf)\n",
    "\n",
    "print(f\"Final Test Mean Squared Error: {mse:.4f}\")\n",
    "print(f\"Final Test R-squared Score: {r2:.4f}\")\n",
    "\n",
    "# Plotting the actual ratings vs predicted ones in a histogram for the randomforest regression model (seems better than linear model)\n",
    "#Predictions are made with continious numbers to capture some of the nuance in reviews but then rounded to nearest integer for graph purposes\n",
    "bins = np.arange(1, 7) - 0.5  # Bins for ratings 1-5\n",
    "\n",
    "plt.hist(y_test, bins=bins, alpha=0.5, label='Actual Ratings', color='green', edgecolor='black')\n",
    "plt.hist(y_pred_rf, bins=bins, alpha=0.5, label='Predicted Ratings (Random Forest)', color='blue', edgecolor='black')\n",
    "\n",
    "plt.xlabel('Rating')\n",
    "plt.ylabel('Frequency')\n",
    "plt.title('Distribution of Actual vs. Predicted Ratings (Test Set)')\n",
    "plt.xticks([1, 2, 3, 4, 5])\n",
    "plt.legend(loc='upper left')\n",
    "plt.grid(True)\n",
    "plt.show()\n"
   ]
  },
  {
   "cell_type": "code",
   "execution_count": 50,
   "id": "cedafc52",
   "metadata": {
    "tags": []
   },
   "outputs": [],
   "source": [
    "# 1. Calculate predictions using the fitted Random Forest model\n",
    "y_pred_rf = rf_model.predict(X_test)\n",
    "\n",
    "# 2. Calculate residuals (actual - predicted)\n",
    "residuals_rf = y_test - y_pred_rf\n",
    "\n",
    "# 3. Create a bar plot of the residuals\n"
   ]
  },
  {
   "cell_type": "code",
   "execution_count": 51,
   "id": "e209c90f",
   "metadata": {
    "tags": []
   },
   "outputs": [
    {
     "name": "stdout",
     "output_type": "stream",
     "text": [
      "Accuracy of the Random Forest model: 53.13%\n"
     ]
    }
   ],
   "source": [
    "# 1. Make predictions using the fitted Random Forest model\n",
    "y_pred_rf = rf_model.predict(X_test)\n",
    "\n",
    "# 2. Round the predictions to the nearest integer (since ratings are discrete)\n",
    "y_pred_rf_rounded = np.round(y_pred_rf).astype(int)\n",
    "\n",
    "# 3. Calculate the accuracy by comparing the rounded predictions to the actual ratings\n",
    "accuracy = np.mean(y_pred_rf_rounded == y_test) * 100  # Multiply by 100 to get percentage\n",
    "\n",
    "print(f\"Accuracy of the Random Forest model: {accuracy:.2f}%\")\n"
   ]
  },
  {
   "cell_type": "code",
   "execution_count": null,
   "id": "b7c1a6fe-24c8-4947-8e08-970d1fd6425a",
   "metadata": {},
   "outputs": [],
   "source": []
  }
 ],
 "metadata": {
  "kernelspec": {
   "display_name": "Python 3 (ipykernel)",
   "language": "python",
   "name": "python3"
  },
  "language_info": {
   "codemirror_mode": {
    "name": "ipython",
    "version": 3
   },
   "file_extension": ".py",
   "mimetype": "text/x-python",
   "name": "python",
   "nbconvert_exporter": "python",
   "pygments_lexer": "ipython3",
   "version": "3.11.4"
  },
  "vscode": {
   "interpreter": {
    "hash": "88309f64b095d5ce3915af14323263fe7bafe3d638d2d7c64b7b949ff436de30"
   }
  }
 },
 "nbformat": 4,
 "nbformat_minor": 5
}
