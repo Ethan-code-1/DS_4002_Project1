{
 "cells": [
  {
   "cell_type": "code",
   "execution_count": 3,
   "id": "3d67e75e-5000-4eb8-9d68-1cf596daf71e",
   "metadata": {},
   "outputs": [],
   "source": [
    "# load necessary libraries for ETL\n",
    "import numpy as np\n",
    "import pandas as pd\n",
    "import requests\n",
    "import requests\n",
    "import urllib\n",
    "import sqlalchemy\n",
    "import os\n",
    "import gcsfs\n",
    "from pymongo import MongoClient\n",
    "import pprint\n",
    "import json"
   ]
  },
  {
   "cell_type": "code",
   "execution_count": 19,
   "id": "6eb28deb-8a2f-4288-b1a1-684963e91c1f",
   "metadata": {},
   "outputs": [
    {
     "ename": "NameError",
     "evalue": "name 'ServerApp' is not defined",
     "output_type": "error",
     "traceback": [
      "\u001b[0;31m---------------------------------------------------------------------------\u001b[0m",
      "\u001b[0;31mNameError\u001b[0m                                 Traceback (most recent call last)",
      "Cell \u001b[0;32mIn[19], line 2\u001b[0m\n\u001b[1;32m      1\u001b[0m limit \u001b[38;5;241m=\u001b[39m np\u001b[38;5;241m.\u001b[39marange(\u001b[38;5;241m100\u001b[39m)\n\u001b[0;32m----> 2\u001b[0m \u001b[38;5;241m-\u001b[39m\u001b[38;5;241m-\u001b[39mServerApp\u001b[38;5;241m.\u001b[39miopub_data_rate_limit\n",
      "\u001b[0;31mNameError\u001b[0m: name 'ServerApp' is not defined"
     ]
    }
   ],
   "source": [
    "limit = np.arange(100)"
   ]
  },
  {
   "cell_type": "code",
   "execution_count": 21,
   "id": "4f82b5aa-8339-495f-bfc4-529419b5c10d",
   "metadata": {},
   "outputs": [
    {
     "name": "stderr",
     "output_type": "stream",
     "text": [
      "IOPub data rate exceeded.\n",
      "The Jupyter server will temporarily stop sending output\n",
      "to the client in order to avoid crashing it.\n",
      "To change this limit, set the config variable\n",
      "`--ServerApp.iopub_data_rate_limit`.\n",
      "\n",
      "Current values:\n",
      "ServerApp.iopub_data_rate_limit=1000000.0 (bytes/sec)\n",
      "ServerApp.rate_limit_window=3.0 (secs)\n",
      "\n"
     ]
    }
   ],
   "source": [
    "'''\n",
    "@article{hou2024bridging,\n",
    "  title={Bridging Language and Items for Retrieval and Recommendation},\n",
    "  author={Hou, Yupeng and Li, Jiacheng and He, Zhankui and Yan, An and Chen, Xiusi and McAuley, Julian},\n",
    "  journal={arXiv preprint arXiv:2403.03952},\n",
    "  year={2024}\n",
    "}\n",
    "'''\n",
    "file = \"movies_metadata_reduced.jsonl\"\n",
    "with open(file, 'r') as fp:\n",
    "    for line in fp:\n",
    "        print(json.loads(line.strip()))\n"
   ]
  },
  {
   "cell_type": "code",
   "execution_count": null,
   "id": "779a212e-03cc-46d0-9b09-d88356c025dc",
   "metadata": {},
   "outputs": [],
   "source": []
  }
 ],
 "metadata": {
  "kernelspec": {
   "display_name": "Python 3 (ipykernel)",
   "language": "python",
   "name": "python3"
  },
  "language_info": {
   "codemirror_mode": {
    "name": "ipython",
    "version": 3
   },
   "file_extension": ".py",
   "mimetype": "text/x-python",
   "name": "python",
   "nbconvert_exporter": "python",
   "pygments_lexer": "ipython3",
   "version": "3.12.2"
  }
 },
 "nbformat": 4,
 "nbformat_minor": 5
}
