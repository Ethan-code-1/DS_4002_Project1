{
 "cells": [
  {
   "cell_type": "code",
   "execution_count": 4,
   "id": "3d67e75e-5000-4eb8-9d68-1cf596daf71e",
   "metadata": {
    "tags": []
   },
   "outputs": [],
   "source": [
    "# load necessary libraries for ETL\n",
    "import numpy as np\n",
    "import pandas as pd\n",
    "import requests\n",
    "import requests\n",
    "import urllib\n",
    "import sqlalchemy\n",
    "import os\n",
    "import pprint\n",
    "import json\n",
    "import matplotlib.pyplot as plt\n",
    "import seaborn as sns"
   ]
  },
  {
   "cell_type": "code",
   "execution_count": 5,
   "id": "4f82b5aa-8339-495f-bfc4-529419b5c10d",
   "metadata": {
    "tags": []
   },
   "outputs": [
    {
     "data": {
      "text/plain": [
       "{'rating': 5.0,\n",
       " 'title': 'Must watch!',\n",
       " 'text': 'I love this series!',\n",
       " 'parent_asin': 'B00PSLQYWE'}"
      ]
     },
     "execution_count": 5,
     "metadata": {},
     "output_type": "execute_result"
    }
   ],
   "source": [
    "'''\n",
    "@article{hou2024bridging,\n",
    "  title={Bridging Language and Items for Retrieval and Recommendation},\n",
    "  author={Hou, Yupeng and Li, Jiacheng and He, Zhankui and Yan, An and Chen, Xiusi and McAuley, Julian},\n",
    "  journal={arXiv preprint arXiv:2403.03952},\n",
    "  year={2024}\n",
    "}\n",
    "'''\n",
    "file_meta = \"../DATA/movies_metadata_reduced.jsonl\"\n",
    "meta_list = [json.loads(line) for line in open(file_meta, 'r')]\n",
    "\n",
    "\n",
    "file_rev = \"../DATA/movies_reviews_reduced.jsonl\"\n",
    "rev_list = [json.loads(line) for line in open(file_rev, 'r')]\n",
    "rev_list[0]\n"
   ]
  },
  {
   "cell_type": "code",
   "execution_count": 6,
   "id": "86dcad86-cc30-46fd-bce7-f92463e7e44d",
   "metadata": {
    "tags": []
   },
   "outputs": [
    {
     "data": {
      "text/html": [
       "<div>\n",
       "<style scoped>\n",
       "    .dataframe tbody tr th:only-of-type {\n",
       "        vertical-align: middle;\n",
       "    }\n",
       "\n",
       "    .dataframe tbody tr th {\n",
       "        vertical-align: top;\n",
       "    }\n",
       "\n",
       "    .dataframe thead th {\n",
       "        text-align: right;\n",
       "    }\n",
       "</style>\n",
       "<table border=\"1\" class=\"dataframe\">\n",
       "  <thead>\n",
       "    <tr style=\"text-align: right;\">\n",
       "      <th></th>\n",
       "      <th>rating</th>\n",
       "      <th>title</th>\n",
       "      <th>text</th>\n",
       "      <th>parent_asin</th>\n",
       "    </tr>\n",
       "  </thead>\n",
       "  <tbody>\n",
       "    <tr>\n",
       "      <th>0</th>\n",
       "      <td>5.0</td>\n",
       "      <td>Must watch!</td>\n",
       "      <td>I love this series!</td>\n",
       "      <td>B00PSLQYWE</td>\n",
       "    </tr>\n",
       "    <tr>\n",
       "      <th>1</th>\n",
       "      <td>5.0</td>\n",
       "      <td>number 2 in the series and its a good one - lo...</td>\n",
       "      <td>number 2 in the series and its a good one - lo...</td>\n",
       "      <td>B003PIUC02</td>\n",
       "    </tr>\n",
       "    <tr>\n",
       "      <th>2</th>\n",
       "      <td>5.0</td>\n",
       "      <td>Great price for blue ray</td>\n",
       "      <td>Gift for son.  Great price for blue ray.</td>\n",
       "      <td>B004R6JG7G</td>\n",
       "    </tr>\n",
       "    <tr>\n",
       "      <th>3</th>\n",
       "      <td>5.0</td>\n",
       "      <td>Miracle on 34th Street</td>\n",
       "      <td>I purchased this as a gift, along with some ot...</td>\n",
       "      <td>B075498GH2</td>\n",
       "    </tr>\n",
       "    <tr>\n",
       "      <th>4</th>\n",
       "      <td>5.0</td>\n",
       "      <td>Twilight Saga</td>\n",
       "      <td>I have always liked vampire movies, &amp; Twilight...</td>\n",
       "      <td>B01JTQ3LFG</td>\n",
       "    </tr>\n",
       "  </tbody>\n",
       "</table>\n",
       "</div>"
      ],
      "text/plain": [
       "   rating                                              title  \\\n",
       "0     5.0                                        Must watch!   \n",
       "1     5.0  number 2 in the series and its a good one - lo...   \n",
       "2     5.0                           Great price for blue ray   \n",
       "3     5.0                             Miracle on 34th Street   \n",
       "4     5.0                                      Twilight Saga   \n",
       "\n",
       "                                                text parent_asin  \n",
       "0                                I love this series!  B00PSLQYWE  \n",
       "1  number 2 in the series and its a good one - lo...  B003PIUC02  \n",
       "2           Gift for son.  Great price for blue ray.  B004R6JG7G  \n",
       "3  I purchased this as a gift, along with some ot...  B075498GH2  \n",
       "4  I have always liked vampire movies, & Twilight...  B01JTQ3LFG  "
      ]
     },
     "execution_count": 6,
     "metadata": {},
     "output_type": "execute_result"
    }
   ],
   "source": [
    "# make a data frame for the reviews \n",
    "rev_df = pd.DataFrame(rev_list)\n",
    "rev_df.head()\n"
   ]
  },
  {
   "cell_type": "code",
   "execution_count": 7,
   "id": "dabade3d-9e3b-4ad3-a9f9-f070403159c3",
   "metadata": {},
   "outputs": [
    {
     "data": {
      "text/plain": [
       "main_category     351\n",
       "average_rating      3\n",
       "rating_number       3\n",
       "details             0\n",
       "parent_asin         0\n",
       "dtype: int64"
      ]
     },
     "execution_count": 7,
     "metadata": {},
     "output_type": "execute_result"
    }
   ],
   "source": [
    "# make a data frame for the metadata? \n",
    "# dropping movies that don't have a title\n",
    "meta_df = pd.DataFrame(meta_list).drop(columns=['images', 'videos','subtitle','description', 'price', 'bought_together', 'title', 'categories','author', 'store', 'features'])\n",
    "meta_df.head()\n",
    "meta_df.isna().sum()"
   ]
  },
  {
   "cell_type": "code",
   "execution_count": 8,
   "id": "21b06e8b-ceaa-43a3-9f39-e4ec0c30669e",
   "metadata": {
    "tags": []
   },
   "outputs": [
    {
     "name": "stdout",
     "output_type": "stream",
     "text": [
      "7477\n",
      "3488\n",
      "3612\n"
     ]
    }
   ],
   "source": [
    "print(len(meta_df))\n",
    "print(len(meta_df[meta_df['main_category'] == 'Prime Video']))\n",
    "print(len(meta_df[meta_df['main_category'] == 'Movies & TV']))\n",
    "prime_df = meta_df[meta_df['main_category'] == 'Prime Video']\n"
   ]
  },
  {
   "cell_type": "code",
   "execution_count": 9,
   "id": "ea7e0b75-5415-4621-ab5b-9609f00c3eb4",
   "metadata": {
    "tags": []
   },
   "outputs": [
    {
     "data": {
      "text/html": [
       "<div>\n",
       "<style scoped>\n",
       "    .dataframe tbody tr th:only-of-type {\n",
       "        vertical-align: middle;\n",
       "    }\n",
       "\n",
       "    .dataframe tbody tr th {\n",
       "        vertical-align: top;\n",
       "    }\n",
       "\n",
       "    .dataframe thead th {\n",
       "        text-align: right;\n",
       "    }\n",
       "</style>\n",
       "<table border=\"1\" class=\"dataframe\">\n",
       "  <thead>\n",
       "    <tr style=\"text-align: right;\">\n",
       "      <th></th>\n",
       "      <th>main_category</th>\n",
       "      <th>average_rating</th>\n",
       "      <th>rating_number</th>\n",
       "      <th>details</th>\n",
       "      <th>parent_asin</th>\n",
       "    </tr>\n",
       "  </thead>\n",
       "  <tbody>\n",
       "    <tr>\n",
       "      <th>0</th>\n",
       "      <td>Prime Video</td>\n",
       "      <td>3.4</td>\n",
       "      <td>29.0</td>\n",
       "      <td>{'Audio languages': ['English'], 'Subtitles': ...</td>\n",
       "      <td>B0728FHHYC</td>\n",
       "    </tr>\n",
       "    <tr>\n",
       "      <th>2</th>\n",
       "      <td>Prime Video</td>\n",
       "      <td>3.1</td>\n",
       "      <td>8.0</td>\n",
       "      <td>{'Audio languages': ['English'], 'Subtitles': ...</td>\n",
       "      <td>B00O8NP6XQ</td>\n",
       "    </tr>\n",
       "    <tr>\n",
       "      <th>5</th>\n",
       "      <td>Prime Video</td>\n",
       "      <td>4.7</td>\n",
       "      <td>3957.0</td>\n",
       "      <td>{'Audio languages': ['English'], 'Subtitles': ...</td>\n",
       "      <td>B077QNR8Q6</td>\n",
       "    </tr>\n",
       "    <tr>\n",
       "      <th>7</th>\n",
       "      <td>Prime Video</td>\n",
       "      <td>4.1</td>\n",
       "      <td>165.0</td>\n",
       "      <td>{'Content advisory': ['Violence', 'substance u...</td>\n",
       "      <td>B09CZJW2Q9</td>\n",
       "    </tr>\n",
       "    <tr>\n",
       "      <th>10</th>\n",
       "      <td>Prime Video</td>\n",
       "      <td>4.3</td>\n",
       "      <td>38.0</td>\n",
       "      <td>{'Subtitles': ['None available'], 'Directors':...</td>\n",
       "      <td>B071L45H6W</td>\n",
       "    </tr>\n",
       "  </tbody>\n",
       "</table>\n",
       "</div>"
      ],
      "text/plain": [
       "   main_category  average_rating  rating_number  \\\n",
       "0    Prime Video             3.4           29.0   \n",
       "2    Prime Video             3.1            8.0   \n",
       "5    Prime Video             4.7         3957.0   \n",
       "7    Prime Video             4.1          165.0   \n",
       "10   Prime Video             4.3           38.0   \n",
       "\n",
       "                                              details parent_asin  \n",
       "0   {'Audio languages': ['English'], 'Subtitles': ...  B0728FHHYC  \n",
       "2   {'Audio languages': ['English'], 'Subtitles': ...  B00O8NP6XQ  \n",
       "5   {'Audio languages': ['English'], 'Subtitles': ...  B077QNR8Q6  \n",
       "7   {'Content advisory': ['Violence', 'substance u...  B09CZJW2Q9  \n",
       "10  {'Subtitles': ['None available'], 'Directors':...  B071L45H6W  "
      ]
     },
     "execution_count": 9,
     "metadata": {},
     "output_type": "execute_result"
    }
   ],
   "source": [
    "prime_df['average_rating'].corr(prime_df['rating_number'])\n",
    "prime_df.head()\n",
    "#meta_df.isna().sum()"
   ]
  },
  {
   "cell_type": "code",
   "execution_count": 10,
   "id": "188b8020-1fa9-4b0c-a795-a7f9764c9a5f",
   "metadata": {
    "tags": []
   },
   "outputs": [
    {
     "data": {
      "text/html": [
       "<div>\n",
       "<style scoped>\n",
       "    .dataframe tbody tr th:only-of-type {\n",
       "        vertical-align: middle;\n",
       "    }\n",
       "\n",
       "    .dataframe tbody tr th {\n",
       "        vertical-align: top;\n",
       "    }\n",
       "\n",
       "    .dataframe thead th {\n",
       "        text-align: right;\n",
       "    }\n",
       "</style>\n",
       "<table border=\"1\" class=\"dataframe\">\n",
       "  <thead>\n",
       "    <tr style=\"text-align: right;\">\n",
       "      <th></th>\n",
       "      <th>rating</th>\n",
       "      <th>title</th>\n",
       "      <th>text</th>\n",
       "      <th>parent_asin</th>\n",
       "      <th>main_category</th>\n",
       "      <th>average_rating</th>\n",
       "      <th>rating_number</th>\n",
       "      <th>details</th>\n",
       "    </tr>\n",
       "  </thead>\n",
       "  <tbody>\n",
       "    <tr>\n",
       "      <th>0</th>\n",
       "      <td>3.0</td>\n",
       "      <td>Predictable but with promise</td>\n",
       "      <td>It had a pacing problem. It was slow in parts ...</td>\n",
       "      <td>B0728FHHYC</td>\n",
       "      <td>Prime Video</td>\n",
       "      <td>3.4</td>\n",
       "      <td>29.0</td>\n",
       "      <td>{'Audio languages': ['English'], 'Subtitles': ...</td>\n",
       "    </tr>\n",
       "    <tr>\n",
       "      <th>1</th>\n",
       "      <td>1.0</td>\n",
       "      <td>One Star</td>\n",
       "      <td>Did not really like this movie. It was a bit o...</td>\n",
       "      <td>B00O8NP6XQ</td>\n",
       "      <td>Prime Video</td>\n",
       "      <td>3.1</td>\n",
       "      <td>8.0</td>\n",
       "      <td>{'Audio languages': ['English'], 'Subtitles': ...</td>\n",
       "    </tr>\n",
       "    <tr>\n",
       "      <th>2</th>\n",
       "      <td>5.0</td>\n",
       "      <td>Five Stars</td>\n",
       "      <td>fun</td>\n",
       "      <td>B077QNR8Q6</td>\n",
       "      <td>Prime Video</td>\n",
       "      <td>4.7</td>\n",
       "      <td>3957.0</td>\n",
       "      <td>{'Audio languages': ['English'], 'Subtitles': ...</td>\n",
       "    </tr>\n",
       "    <tr>\n",
       "      <th>3</th>\n",
       "      <td>4.0</td>\n",
       "      <td>Worth the time</td>\n",
       "      <td>Falls short of the book, of course, but a good...</td>\n",
       "      <td>B077QNR8Q6</td>\n",
       "      <td>Prime Video</td>\n",
       "      <td>4.7</td>\n",
       "      <td>3957.0</td>\n",
       "      <td>{'Audio languages': ['English'], 'Subtitles': ...</td>\n",
       "    </tr>\n",
       "    <tr>\n",
       "      <th>4</th>\n",
       "      <td>5.0</td>\n",
       "      <td>Be ready to have your heart racing as quickly ...</td>\n",
       "      <td>I read the book on which this series is based....</td>\n",
       "      <td>B077QNR8Q6</td>\n",
       "      <td>Prime Video</td>\n",
       "      <td>4.7</td>\n",
       "      <td>3957.0</td>\n",
       "      <td>{'Audio languages': ['English'], 'Subtitles': ...</td>\n",
       "    </tr>\n",
       "  </tbody>\n",
       "</table>\n",
       "</div>"
      ],
      "text/plain": [
       "   rating                                              title  \\\n",
       "0     3.0                       Predictable but with promise   \n",
       "1     1.0                                           One Star   \n",
       "2     5.0                                         Five Stars   \n",
       "3     4.0                                     Worth the time   \n",
       "4     5.0  Be ready to have your heart racing as quickly ...   \n",
       "\n",
       "                                                text parent_asin  \\\n",
       "0  It had a pacing problem. It was slow in parts ...  B0728FHHYC   \n",
       "1  Did not really like this movie. It was a bit o...  B00O8NP6XQ   \n",
       "2                                                fun  B077QNR8Q6   \n",
       "3  Falls short of the book, of course, but a good...  B077QNR8Q6   \n",
       "4  I read the book on which this series is based....  B077QNR8Q6   \n",
       "\n",
       "  main_category  average_rating  rating_number  \\\n",
       "0   Prime Video             3.4           29.0   \n",
       "1   Prime Video             3.1            8.0   \n",
       "2   Prime Video             4.7         3957.0   \n",
       "3   Prime Video             4.7         3957.0   \n",
       "4   Prime Video             4.7         3957.0   \n",
       "\n",
       "                                             details  \n",
       "0  {'Audio languages': ['English'], 'Subtitles': ...  \n",
       "1  {'Audio languages': ['English'], 'Subtitles': ...  \n",
       "2  {'Audio languages': ['English'], 'Subtitles': ...  \n",
       "3  {'Audio languages': ['English'], 'Subtitles': ...  \n",
       "4  {'Audio languages': ['English'], 'Subtitles': ...  "
      ]
     },
     "execution_count": 10,
     "metadata": {},
     "output_type": "execute_result"
    }
   ],
   "source": [
    "df_merged = rev_df.merge(prime_df, on='parent_asin', how='right')\n",
    "df_merged.head()\n",
    "# aughhhh the colums are not merging right aauughhhh"
   ]
  },
  {
   "cell_type": "code",
   "execution_count": 11,
   "id": "7d082155-a148-4541-89b5-22e50563f0cd",
   "metadata": {},
   "outputs": [
    {
     "data": {
      "image/png": "[encoded data removed]",
      "text/plain": [
       "<Figure size 800x500 with 2 Axes>"
      ]
     },
     "metadata": {},
     "output_type": "display_data"
    }
   ],
   "source": [
    "corr_df = df_merged.select_dtypes(include=['float64'])\n",
    "correlation_matrix = corr_df.corr()\n",
    "\n",
    "plt.figure(figsize=(8, 5))\n",
    "sns.heatmap(correlation_matrix, annot=True, cmap='coolwarm')\n",
    "plt.title('Correlation Between rating, average rating, rating number')\n",
    "plt.show()\n"
   ]
  },
  {
   "cell_type": "code",
   "execution_count": 12,
   "id": "6c4c0299-2941-4fba-b215-4c9771af92fa",
   "metadata": {
    "tags": []
   },
   "outputs": [
    {
     "data": {
      "image/png": "[encoded data removed]",
      "text/plain": [
       "<Figure size 640x480 with 1 Axes>"
      ]
     },
     "metadata": {},
     "output_type": "display_data"
    }
   ],
   "source": [
    "# take count of descriptors im in the details column\n",
    "\n",
    "# postive diff = user is lower than average, negative diff = user is higher than average \n",
    "df_merged['rating_diff'] = df_merged['average_rating'] - df_merged['rating']\n",
    "ax1 = df_merged.plot.scatter(x='rating_diff',\n",
    "\n",
    "                      y='rating',\n",
    "\n",
    "                      c='DarkBlue')"
   ]
  },
  {
   "cell_type": "code",
   "execution_count": 13,
   "id": "70bee485-7e5f-4a9a-8d89-408d9760d1ea",
   "metadata": {
    "tags": []
   },
   "outputs": [
    {
     "data": {
      "image/png": "[encoded data removed]",
      "text/plain": [
       "<Figure size 640x480 with 1 Axes>"
      ]
     },
     "metadata": {},
     "output_type": "display_data"
    }
   ],
   "source": [
    "ax = df_merged[\"rating_diff\"].plot.hist(orientation=\"vertical\", cumulative=True)\n",
    "# postive diff = user is lower than average, negative diff = user is higher than average \n"
   ]
  },
  {
   "cell_type": "code",
   "execution_count": 14,
   "id": "32c9075e-3582-4d73-8106-e7e77762361b",
   "metadata": {},
   "outputs": [
    {
     "name": "stderr",
     "output_type": "stream",
     "text": [
      "[nltk_data] Downloading package vader_lexicon to\n",
      "[nltk_data]     /Users/ethanogilvie/nltk_data...\n"
     ]
    }
   ],
   "source": [
    "from nltk.sentiment import SentimentIntensityAnalyzer\n",
    "import nltk\n",
    "\n",
    "nltk.download('vader_lexicon')\n",
    "sia = SentimentIntensityAnalyzer()"
   ]
  },
  {
   "cell_type": "code",
   "execution_count": 22,
   "id": "0d19d0a0",
   "metadata": {},
   "outputs": [],
   "source": [
    "def get_sentiment_scores(df):\n",
    "    # Create an empty list to store sentiment scores\n",
    "    sentiment_scores = []\n",
    "\n",
    "    # Iterate over each review text\n",
    "    for review in df[\"text\"]:\n",
    "        sentiment = sia.polarity_scores(str(review))  # Convert to string & analyze\n",
    "        sentiment_scores.append(sentiment[\"compound\"])  # Extract compound score\n",
    "\n",
    "    # Add sentiment score column\n",
    "    df[\"sentiment_score\"] = sentiment_scores\n",
    "\n",
    "    return df  \n"
   ]
  },
  {
   "cell_type": "code",
   "execution_count": 23,
   "id": "870c80e0",
   "metadata": {},
   "outputs": [
    {
     "data": {
      "text/html": [
       "<div>\n",
       "<style scoped>\n",
       "    .dataframe tbody tr th:only-of-type {\n",
       "        vertical-align: middle;\n",
       "    }\n",
       "\n",
       "    .dataframe tbody tr th {\n",
       "        vertical-align: top;\n",
       "    }\n",
       "\n",
       "    .dataframe thead th {\n",
       "        text-align: right;\n",
       "    }\n",
       "</style>\n",
       "<table border=\"1\" class=\"dataframe\">\n",
       "  <thead>\n",
       "    <tr style=\"text-align: right;\">\n",
       "      <th></th>\n",
       "      <th>rating</th>\n",
       "      <th>title</th>\n",
       "      <th>text</th>\n",
       "      <th>parent_asin</th>\n",
       "      <th>sentiment_score</th>\n",
       "    </tr>\n",
       "  </thead>\n",
       "  <tbody>\n",
       "    <tr>\n",
       "      <th>0</th>\n",
       "      <td>5.0</td>\n",
       "      <td>Must watch!</td>\n",
       "      <td>I love this series!</td>\n",
       "      <td>B00PSLQYWE</td>\n",
       "      <td>0.6696</td>\n",
       "    </tr>\n",
       "    <tr>\n",
       "      <th>1</th>\n",
       "      <td>5.0</td>\n",
       "      <td>number 2 in the series and its a good one - lo...</td>\n",
       "      <td>number 2 in the series and its a good one - lo...</td>\n",
       "      <td>B003PIUC02</td>\n",
       "      <td>0.8748</td>\n",
       "    </tr>\n",
       "    <tr>\n",
       "      <th>2</th>\n",
       "      <td>5.0</td>\n",
       "      <td>Great price for blue ray</td>\n",
       "      <td>Gift for son.  Great price for blue ray.</td>\n",
       "      <td>B004R6JG7G</td>\n",
       "      <td>0.7906</td>\n",
       "    </tr>\n",
       "    <tr>\n",
       "      <th>3</th>\n",
       "      <td>5.0</td>\n",
       "      <td>Miracle on 34th Street</td>\n",
       "      <td>I purchased this as a gift, along with some ot...</td>\n",
       "      <td>B075498GH2</td>\n",
       "      <td>0.9825</td>\n",
       "    </tr>\n",
       "    <tr>\n",
       "      <th>4</th>\n",
       "      <td>5.0</td>\n",
       "      <td>Twilight Saga</td>\n",
       "      <td>I have always liked vampire movies, &amp; Twilight...</td>\n",
       "      <td>B01JTQ3LFG</td>\n",
       "      <td>0.6908</td>\n",
       "    </tr>\n",
       "    <tr>\n",
       "      <th>...</th>\n",
       "      <td>...</td>\n",
       "      <td>...</td>\n",
       "      <td>...</td>\n",
       "      <td>...</td>\n",
       "      <td>...</td>\n",
       "    </tr>\n",
       "    <tr>\n",
       "      <th>95</th>\n",
       "      <td>3.0</td>\n",
       "      <td>Not quite right in interpetation of biblical p...</td>\n",
       "      <td>I gave it a 3. You really have to know your Bi...</td>\n",
       "      <td>B0847V9B7K</td>\n",
       "      <td>0.8869</td>\n",
       "    </tr>\n",
       "    <tr>\n",
       "      <th>96</th>\n",
       "      <td>3.0</td>\n",
       "      <td>Pride Fighting Championships 29: Fists of Fluf...</td>\n",
       "      <td>As usual, Pride puts on another great show. Ye...</td>\n",
       "      <td>B000CSTKJW</td>\n",
       "      <td>0.9969</td>\n",
       "    </tr>\n",
       "    <tr>\n",
       "      <th>97</th>\n",
       "      <td>2.0</td>\n",
       "      <td>Jason dies and is reborn into movie hell</td>\n",
       "      <td>I have always been a fan of the Friday the 13t...</td>\n",
       "      <td>B00006FDBT</td>\n",
       "      <td>0.2365</td>\n",
       "    </tr>\n",
       "    <tr>\n",
       "      <th>98</th>\n",
       "      <td>5.0</td>\n",
       "      <td>I won't be popular for my review, but here goe...</td>\n",
       "      <td>Maybe I just LOVE the grittiness and despair i...</td>\n",
       "      <td>B000O77SF4</td>\n",
       "      <td>0.9896</td>\n",
       "    </tr>\n",
       "    <tr>\n",
       "      <th>99</th>\n",
       "      <td>1.0</td>\n",
       "      <td>Really bad acting!</td>\n",
       "      <td>Really bad acting!</td>\n",
       "      <td>B00950XEWC</td>\n",
       "      <td>-0.6230</td>\n",
       "    </tr>\n",
       "  </tbody>\n",
       "</table>\n",
       "<p>100 rows × 5 columns</p>\n",
       "</div>"
      ],
      "text/plain": [
       "    rating                                              title  \\\n",
       "0      5.0                                        Must watch!   \n",
       "1      5.0  number 2 in the series and its a good one - lo...   \n",
       "2      5.0                           Great price for blue ray   \n",
       "3      5.0                             Miracle on 34th Street   \n",
       "4      5.0                                      Twilight Saga   \n",
       "..     ...                                                ...   \n",
       "95     3.0  Not quite right in interpetation of biblical p...   \n",
       "96     3.0  Pride Fighting Championships 29: Fists of Fluf...   \n",
       "97     2.0           Jason dies and is reborn into movie hell   \n",
       "98     5.0  I won't be popular for my review, but here goe...   \n",
       "99     1.0                                 Really bad acting!   \n",
       "\n",
       "                                                 text parent_asin  \\\n",
       "0                                 I love this series!  B00PSLQYWE   \n",
       "1   number 2 in the series and its a good one - lo...  B003PIUC02   \n",
       "2            Gift for son.  Great price for blue ray.  B004R6JG7G   \n",
       "3   I purchased this as a gift, along with some ot...  B075498GH2   \n",
       "4   I have always liked vampire movies, & Twilight...  B01JTQ3LFG   \n",
       "..                                                ...         ...   \n",
       "95  I gave it a 3. You really have to know your Bi...  B0847V9B7K   \n",
       "96  As usual, Pride puts on another great show. Ye...  B000CSTKJW   \n",
       "97  I have always been a fan of the Friday the 13t...  B00006FDBT   \n",
       "98  Maybe I just LOVE the grittiness and despair i...  B000O77SF4   \n",
       "99                                 Really bad acting!  B00950XEWC   \n",
       "\n",
       "    sentiment_score  \n",
       "0            0.6696  \n",
       "1            0.8748  \n",
       "2            0.7906  \n",
       "3            0.9825  \n",
       "4            0.6908  \n",
       "..              ...  \n",
       "95           0.8869  \n",
       "96           0.9969  \n",
       "97           0.2365  \n",
       "98           0.9896  \n",
       "99          -0.6230  \n",
       "\n",
       "[100 rows x 5 columns]"
      ]
     },
     "execution_count": 23,
     "metadata": {},
     "output_type": "execute_result"
    }
   ],
   "source": [
    "rev_df_s = get_sentiment_scores(rev_df)\n",
    "rev_df_s.head(100)"
   ]
  },
  {
   "cell_type": "code",
   "execution_count": null,
   "id": "be08777f",
   "metadata": {},
   "outputs": [],
   "source": []
  }
 ],
 "metadata": {
  "kernelspec": {
   "display_name": "Python 3",
   "language": "python",
   "name": "python3"
  },
  "language_info": {
   "codemirror_mode": {
    "name": "ipython",
    "version": 3
   },
   "file_extension": ".py",
   "mimetype": "text/x-python",
   "name": "python",
   "nbconvert_exporter": "python",
   "pygments_lexer": "ipython3",
   "version": "3.9.6"
  },
  "vscode": {
   "interpreter": {
    "hash": "aee8b7b246df8f9039afb4144a1f6fd8d2ca17a180786b69acc140d282b71a49"
   }
  }
 },
 "nbformat": 4,
 "nbformat_minor": 5
}
